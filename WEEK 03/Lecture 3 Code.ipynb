{
  "nbformat": 4,
  "nbformat_minor": 0,
  "metadata": {
    "colab": {
      "provenance": []
    },
    "kernelspec": {
      "name": "python3",
      "display_name": "Python 3"
    },
    "language_info": {
      "name": "python"
    }
  },
  "cells": [
    {
      "cell_type": "markdown",
      "metadata": {
        "id": "Nqc3RYxquDvK"
      },
      "source": [
        "# Name:   Data visualization\n",
        ">Purpose: 1. Scatter plot 2. Linear fit 3. Scatter matrix 4.Bar plot, stacked bar, grouped bar 5. Histogram and bin size 6. Density plot 7. Box-plot 8. QQ plot and skewness\n",
        "\n",
        "> Author:      wangl\n",
        "\n",
        "> Created:     10/10/2024\n",
        "> Copyright:   (c) wangl 2024\n"
      ]
    },
    {
      "cell_type": "markdown",
      "metadata": {
        "id": "A1CPu9u_ZvNy"
      },
      "source": [
        "## Scatter plot"
      ]
    },
    {
      "cell_type": "code",
      "metadata": {
        "id": "tX0DOMt1cULc"
      },
      "source": [
        "import numpy as np\n",
        "import matplotlib.pyplot as plt\n",
        "\n",
        "rng = np.random.RandomState(0)\n",
        "\n",
        "x = rng.randn(100)\n",
        "\n",
        "y = rng.randn(100)\n",
        "\n",
        "colors = rng.rand(100)\n",
        "\n",
        "sizes = 1000 * rng.rand(100)\n",
        "\n",
        "plt.scatter(x, y, c=colors, s=sizes,\n",
        "alpha=0.3, cmap='viridis')\n",
        "\n",
        "plt.colorbar()\n",
        "\n"
      ],
      "execution_count": null,
      "outputs": []
    },
    {
      "cell_type": "markdown",
      "metadata": {
        "id": "IAVdtH1qZtos"
      },
      "source": [
        "## Linear fit"
      ]
    },
    {
      "cell_type": "code",
      "metadata": {
        "id": "FYnbHJAFiRLg"
      },
      "source": [
        "import numpy as np\n",
        "import matplotlib.pyplot as plt\n",
        "\n",
        "x = np.random.randn(20)\n",
        "y = 2*x + 1*np.random.randn(20)\n",
        "plt.plot(x,y,'.')\n",
        "x1 = np.unique(x)\n",
        "y1 = np.poly1d(np.polyfit(x, y, 1))(np.unique(x))\n",
        "#plt.plot(x1, y1)\n",
        "#plt.plot(np.unique(x), np.poly1d(np.polyfit(x, y, 1))(np.unique(x)))\n",
        "\n",
        "coef = np.polyfit(x,y,1)\n",
        "yy = np.poly1d(coef)(x)\n",
        "plt.figure()\n",
        "plt.plot(x,y,'.')\n",
        "plt.plot(x,yy)"
      ],
      "execution_count": null,
      "outputs": []
    },
    {
      "cell_type": "markdown",
      "metadata": {
        "id": "qHYSMiJ_Z5nY"
      },
      "source": [
        "## Scatter matrix"
      ]
    },
    {
      "cell_type": "code",
      "metadata": {
        "id": "SxuAh93rpErk"
      },
      "source": [
        "import pandas as pd\n",
        "import numpy as np\n",
        "df = pd.DataFrame(np.random.randn(1000, 4), columns=['A','B','C','D'])\n",
        "pd.plotting.scatter_matrix(df, alpha=0.2)\n"
      ],
      "execution_count": null,
      "outputs": []
    },
    {
      "cell_type": "markdown",
      "metadata": {
        "id": "GqSWd8CDaMp3"
      },
      "source": [
        "## bar plot"
      ]
    },
    {
      "cell_type": "code",
      "metadata": {
        "id": "EVlBzURwTH_s"
      },
      "source": [
        "import matplotlib.pyplot as plt\n",
        "import numpy as np\n",
        "objects = ('Python', 'C++', 'Java', 'Perl', 'Scala', 'Lisp')\n",
        "x_pos = np.arange(len(objects))\n",
        "usage = [10, 8, 6, 4, 2, 1]\n",
        "plt.bar(x_pos, usage)\n",
        "plt.xticks(x_pos, objects)\n",
        "plt.ylabel('Usage')\n",
        "plt.title('Programming language usage')\n"
      ],
      "execution_count": null,
      "outputs": []
    },
    {
      "cell_type": "markdown",
      "metadata": {
        "id": "dCRK7_aoa8NG"
      },
      "source": [
        "## Stacked bar"
      ]
    },
    {
      "cell_type": "code",
      "metadata": {
        "id": "0g_rRW5fUr_Z"
      },
      "source": [
        "import matplotlib.pyplot as plt\n",
        "import numpy as np\n",
        "x = ['a', 'b', 'c', 'd']\n",
        "y1 = [5, 10, 5, 6]\n",
        "y2 = [7, 3, 8, 15]\n",
        "y3 = [1, 7, 18, 3]\n",
        "plt.bar(x, y1, )\n",
        "plt.bar(x, y2, bottom=y1)\n",
        "z = list(np.array(y1) + np.array(y2))\n",
        "plt.bar(x, y3, bottom=z)\n",
        "plt.legend(['y1','y2','y3'])\n",
        "plt.ylim(0, 35 )\n",
        "\n",
        "\n"
      ],
      "execution_count": null,
      "outputs": []
    },
    {
      "cell_type": "markdown",
      "metadata": {
        "id": "9KUR-8hRaXWw"
      },
      "source": [
        "## Grouped bar"
      ]
    },
    {
      "cell_type": "code",
      "metadata": {
        "id": "KNp3ygqmbrv5"
      },
      "source": [
        "import matplotlib.pyplot as plt\n",
        "import numpy as np\n",
        "x = ['a', 'b', 'c', 'd']\n",
        "y1 = [5, 10, 5, 6]\n",
        "y2 = [7, 3, 8, 15]\n",
        "y3 = [1, 7, 18, 3]\n",
        "\n",
        "w = 0.2\n",
        "x_pos = np.array(range(len(x)))\n",
        "plt.bar(x_pos-0.2, y1, width=w)\n",
        "plt.bar(x_pos, y2, width=w)\n",
        "plt.bar(x_pos+0.2, y3, width=w)\n",
        "plt.legend(['y1','y2','y3'])\n",
        "plt.xticks(x_pos,x)"
      ],
      "execution_count": null,
      "outputs": []
    },
    {
      "cell_type": "markdown",
      "metadata": {
        "id": "RORyBVgsad0o"
      },
      "source": [
        "## Pie chart"
      ]
    },
    {
      "cell_type": "code",
      "metadata": {
        "id": "PKIhT9KycxXg"
      },
      "source": [
        "import matplotlib.pyplot as plt\n",
        "import numpy as np\n",
        "x = ['a', 'b', 'c', 'd']\n",
        "y1 = [5, 10, 5, 6]\n",
        "y2 = [7, 3, 8, 15]\n",
        "y3 = [1, 7, 18, 3]\n",
        "\n",
        "\n",
        "za = [y1[0], y2[0], y3[0]]\n",
        "plt.pie(za, labels=['y1','y2','y3'])\n",
        "plt.title(x[0])\n",
        "\n"
      ],
      "execution_count": null,
      "outputs": []
    },
    {
      "cell_type": "markdown",
      "metadata": {
        "id": "hYWQaFEvajse"
      },
      "source": [
        "## Histogram"
      ]
    },
    {
      "cell_type": "code",
      "metadata": {
        "id": "D4042Ny60ObO"
      },
      "source": [
        "import matplotlib.pyplot as plt\n",
        "import numpy as np\n",
        "x = [21, 22, 23, 4, 5, 6, 77, 8, 9, 10, 31, 32, 33, 34, 35, 36, 37, 18, 49, 50, 100]\n",
        "num_bins = 5\n",
        "[count, bin, patch] = plt.hist(x, bins=num_bins, facecolor='blue', alpha=0.5)\n",
        "print('bin:', [bin[i] for i in range(len(bin))])\n",
        "print('count:', [count[i] for i in range(len(count))])\n",
        "\n",
        "#bin: [4.0, 23.2, 42.4, 61.599999999999994, 80.8, 100.0]\n",
        "#count: [10.0, 7.0, 2.0, 1.0, 1.0]\n",
        "\n",
        "# you can also us np.histogram\n",
        "[count2, bins2] = np.histogram(x, bins=5)\n",
        "plt.figure()\n",
        "plt.bar((bins2[0:-1]+bins2[1:])/2,count2,width=20)\n",
        "\n",
        "plt.figure()\n",
        "plt.hist(x, bins=num_bins, facecolor='blue', density=1)\n",
        "plt.title('Normalized histogram')\n",
        "\n",
        "plt.figure()\n",
        "plt.hist(x, bins=num_bins, facecolor='blue', density=1, cumulative=True)\n",
        "plt.title('cumulative histogram')"
      ],
      "execution_count": null,
      "outputs": []
    },
    {
      "cell_type": "markdown",
      "metadata": {
        "id": "9H75RmsqtwjM"
      },
      "source": [
        "## histogram with different number of bins"
      ]
    },
    {
      "cell_type": "code",
      "metadata": {
        "id": "FRXc-Gu8vE_K"
      },
      "source": [
        "import matplotlib.pyplot as plt\n",
        "import numpy as np\n",
        "x = np.random.randn(5000)\n",
        "plt.subplot(121)\n",
        "num_bins = int(np.sqrt(len(x)))\n",
        "plt.hist(x,num_bins)\n",
        "plt.title(num_bins)\n",
        "plt.subplot(122)\n",
        "num_bins = int(np.ceil(np.log2(len(x))+1))\n",
        "plt.hist(x,num_bins)\n",
        "plt.title(num_bins)\n",
        "plt.tight_layout()\n"
      ],
      "execution_count": null,
      "outputs": []
    },
    {
      "cell_type": "code",
      "metadata": {
        "id": "Hvh-EBGUHun4"
      },
      "source": [
        "import matplotlib.pyplot as plt\n",
        "import numpy as np\n",
        "x = np.random.randn(5000)\n",
        "hist, bins, path = plt.hist(x,bins=20, density=True)\n",
        "bin_centers = (bins[1:]+bins[:-1])*0.5\n",
        "plt.plot(bin_centers, hist, linewidth=5)\n"
      ],
      "execution_count": null,
      "outputs": []
    },
    {
      "cell_type": "markdown",
      "metadata": {
        "id": "-4jRtlFdwHVY"
      },
      "source": [
        "## Density plot"
      ]
    },
    {
      "cell_type": "code",
      "metadata": {
        "id": "pkDaYc0b0Zc0"
      },
      "source": [
        "import matplotlib.pyplot as plt\n",
        "import numpy as np\n",
        "import pandas as pd\n",
        "flights = pd.read_csv(\"http://www.eecs.qmul.ac.uk/~linwang/download/ecs764/formatted_flights.csv\")\n",
        "flights.head(10)\n",
        "JetBlue = flights[flights['name']=='JetBlue Airways']\n",
        "delay = JetBlue['arr_delay']\n",
        "hist, bins, path = plt.hist(delay,bins=18, density=True)\n",
        "bin_centers = (bins[1:]+bins[:-1])*0.5\n",
        "plt.plot(bin_centers, hist, linewidth=5)\n",
        "plt.title('JetBlue Airways')\n",
        "\n",
        "# seaborn\n",
        "import seaborn as sns\n",
        "plt.figure()\n",
        "sns.distplot(delay, bins = 18, hist = True, kde = False,\n",
        "             color = 'darkblue',\n",
        "             kde_kws={'linewidth': 5},\n",
        "             hist_kws={'edgecolor': 'black'})\n",
        "plt.title('JetBlue Airways')\n",
        "\n",
        "# kernal density estimation\n",
        "plt.figure()\n",
        "bw_list = [0.1, 0.2, 0.5, 1, 5]\n",
        "for b in bw_list:\n",
        "  sns.distplot(delay, bins = 18, hist = True, kde = True,\n",
        "             kde_kws={'linewidth': 2, 'bw': b})\n",
        "plt.legend(bw_list)\n",
        "plt.title('Density plot with varying bandwidth')\n",
        "\n",
        "\n"
      ],
      "execution_count": null,
      "outputs": []
    },
    {
      "cell_type": "markdown",
      "metadata": {
        "id": "4mrEepIwAb7d"
      },
      "source": [
        "## Box plot"
      ]
    },
    {
      "cell_type": "code",
      "metadata": {
        "id": "_eeLVqkXIpBx"
      },
      "source": [
        "import matplotlib.pyplot as plt\n",
        "import numpy as np\n",
        "import pandas as pd\n",
        "flights = pd.read_csv(\"http://www.eecs.qmul.ac.uk/~linwang/download/ecs764/formatted_flights.csv\")\n",
        "flights.head(10)\n",
        "JetBlue = flights[flights['name']=='JetBlue Airways']['arr_delay']\n",
        "Delta = flights[flights['name']=='Delta Air Lines Inc.']['arr_delay']\n",
        "United = flights[flights['name']=='United Air Lines Inc.']['arr_delay']\n",
        "American = flights[flights['name']=='American Airlines Inc.']['arr_delay']\n",
        "ExpressJet = flights[flights['name']=='ExpressJet Airlines Inc.']['arr_delay']\n",
        "\n",
        "# box plot\n",
        "delay = [United, JetBlue, ExpressJet, Delta, American]\n",
        "flierprops = dict(marker='+', markerfacecolor='g', markersize=5,\n",
        "                  linestyle='none', markeredgecolor='r')\n",
        "airline_names = ['United', 'JetBlue', 'ExpressJet', 'Delta', 'American']\n",
        "plt.boxplot(delay,labels=airline_names)\n",
        "plt.ylabel('Delay')\n",
        "plt.grid()\n",
        "\n",
        "# pdf plot\n",
        "import seaborn as sns\n",
        "plt.figure()\n",
        "for airline in delay:\n",
        "  sns.distplot(airline, hist=False, kde=True)\n",
        "plt.legend(airline_names)\n",
        "\n",
        "# violin plot\n",
        "plt.figure()\n",
        "ax = sns.violinplot(data=delay)\n",
        "ax.set_xticklabels(airline_names)\n",
        "ax.set_ylabel('Delay')\n",
        "\n",
        "\n"
      ],
      "execution_count": null,
      "outputs": []
    },
    {
      "cell_type": "markdown",
      "metadata": {
        "id": "56bjXSCMH5dI"
      },
      "source": [
        "## Q-Q plot"
      ]
    },
    {
      "cell_type": "code",
      "metadata": {
        "id": "RZdirh2Cnh_h"
      },
      "source": [
        "import matplotlib.pyplot as plt\n",
        "import numpy as np\n",
        "import pandas as pd\n",
        "\n",
        "def standardize(observation):\n",
        "  z = (observation-np.mean(observation))/np.std(observation)\n",
        "  return z\n",
        "\n",
        "def get_quantiles(data):\n",
        "    quantiles = []\n",
        "    for q in np.arange(0, 1.001, 0.001):\n",
        "        quantiles.append(np.quantile(data, q))\n",
        "    return quantiles\n",
        "\n",
        "def pyqqplot(data1, data2):\n",
        "    plt.figure()\n",
        "    data1 = standardize(data1)\n",
        "    data2 = standardize(data2)\n",
        "    q1 = np.array(get_quantiles(data1))\n",
        "    q2 = np.array(get_quantiles(data2))\n",
        "    plt.scatter(q1, q2 )\n",
        "\n",
        "    minim = min(data1.min(), data2.min())\n",
        "    maxim = max(data1.max(), data2.max())\n",
        "    plt.plot([minim, maxim], [minim, maxim], 'r-')\n",
        "    plt.xlabel('x1')\n",
        "    plt.ylabel('x2')\n",
        "    plt.show()\n",
        "\n",
        "import seaborn as sns\n",
        "\n",
        "x1 = np.random.normal(0, 1, size = 10000 )\n",
        "x2 = np.random.normal(0, 1, size=10000 )\n",
        "plt.figure()\n",
        "sns.distplot(x1, hist=False, kde=True)\n",
        "sns.distplot(x2, hist=True, kde= True, hist_kws={'edgecolor': 'black'})\n",
        "plt.legend(['x1','x2'])\n",
        "pyqqplot(x1, x2)\n",
        "plt.figure()\n",
        "plt.boxplot([x1,x2])\n",
        "\n",
        "x2 = np.random.laplace(0, 5, size = 10000 )\n",
        "x1 = standardize(x1)\n",
        "x2 = standardize(x2)\n",
        "plt.figure()\n",
        "sns.distplot(x1, hist=False, kde=True)\n",
        "sns.distplot(x2, hist=True, kde= True, hist_kws={'edgecolor': 'black'})\n",
        "plt.legend(['x1','x2'])\n",
        "pyqqplot(x1,x2)\n",
        "plt.figure()\n",
        "plt.boxplot([x1,x2])\n",
        "\n",
        "x2 = np.random.gamma(2, 1, size=10000 )\n",
        "x1 = standardize(x1)\n",
        "x2 = standardize(x2)\n",
        "plt.figure()\n",
        "sns.distplot(x1, hist=False, kde=True)\n",
        "sns.distplot(x2, hist=True, kde= True, hist_kws={'edgecolor': 'black'})\n",
        "plt.legend(['x1','x2'])\n",
        "pyqqplot(x1,x2)\n",
        "plt.figure()\n",
        "plt.boxplot([x1,x2])\n",
        "\n",
        "\n"
      ],
      "execution_count": null,
      "outputs": []
    },
    {
      "cell_type": "markdown",
      "metadata": {
        "id": "2nLysZVnIJPm"
      },
      "source": [
        "## Find skewness with QQ plot"
      ]
    },
    {
      "cell_type": "code",
      "metadata": {
        "id": "CerDMExHCB0Z"
      },
      "source": [
        "import matplotlib.pyplot as plt\n",
        "import numpy as np\n",
        "import pandas as pd\n",
        "\n",
        "def standardize(observation):\n",
        "  z = (observation-np.mean(observation))/np.std(observation)\n",
        "  return z\n",
        "\n",
        "def get_quantiles(data):\n",
        "    quantiles = []\n",
        "    for q in np.arange(0, 1.001, 0.001):\n",
        "        quantiles.append(np.quantile(data, q))\n",
        "    return quantiles\n",
        "\n",
        "def pyqqplot(data1, data2):\n",
        "    plt.figure()\n",
        "    data1 = standardize(data1)\n",
        "    data2 = standardize(data2)\n",
        "    q1 = np.array(get_quantiles(data1))\n",
        "    q2 = np.array(get_quantiles(data2))\n",
        "    plt.scatter(q1, q2 )\n",
        "\n",
        "    minim = min(data1.min(), data2.min())\n",
        "    maxim = max(data1.max(), data2.max())\n",
        "    plt.plot([minim, maxim], [minim, maxim], 'r-')\n",
        "    plt.xlabel('x1')\n",
        "    plt.ylabel('x2')\n",
        "    plt.show()\n",
        "\n",
        "import seaborn as sns\n",
        "\n",
        "# left skewed\n",
        "x1 = np.random.normal(0, 1, size = 10000 )\n",
        "x2 = np.random.weibull(10,size=10000)\n",
        "x1 = standardize(x1)\n",
        "x2 = standardize(x2)\n",
        "plt.figure()\n",
        "sns.distplot(x1, hist=False, kde=True)\n",
        "sns.distplot(x2, hist=True, kde= True, hist_kws={'edgecolor': 'black'})\n",
        "plt.legend(['x1','x2'])\n",
        "pyqqplot(x1,x2)\n",
        "plt.figure()\n",
        "plt.boxplot([x1,x2],labels=['x1','x2'])\n",
        "\n",
        "# right skewed\n",
        "x1 = np.random.normal(0, 1, size = 10000 )\n",
        "x2 = np.random.weibull(1.5,size=10000)\n",
        "x1 = standardize(x1)\n",
        "x2 = standardize(x2)\n",
        "plt.figure()\n",
        "sns.distplot(x1, hist=False, kde=True)\n",
        "sns.distplot(x2, hist=True, kde= True, hist_kws={'edgecolor': 'black'})\n",
        "plt.legend(['x1','x2'])\n",
        "pyqqplot(x1,x2)\n",
        "plt.figure()\n",
        "plt.boxplot([x1,x2],labels=['x1','x2'])\n",
        "\n",
        "# fat tail\n",
        "x1 = np.random.normal(0, 1, size = 10000 )\n",
        "x2 = np.random.laplace(0, 5, size = 10000 )\n",
        "x1 = standardize(x1)\n",
        "x2 = standardize(x2)\n",
        "plt.figure()\n",
        "sns.distplot(x1, hist=False, kde=True)\n",
        "sns.distplot(x2, hist=True, kde= True, hist_kws={'edgecolor': 'black'})\n",
        "plt.legend(['x1','x2'])\n",
        "pyqqplot(x1,x2)\n",
        "plt.figure()\n",
        "plt.boxplot([x1,x2],labels=['x1','x2'])\n",
        "\n",
        "# extreme vs heavy-tail\n",
        "x1 = np.random.weibull(1.5,size=10000)\n",
        "x2 = np.random.pareto(10, size=10000 )\n",
        "x1 = standardize(x1)\n",
        "x2 = standardize(x2)\n",
        "plt.figure()\n",
        "sns.distplot(x1, hist=False, kde=True)\n",
        "sns.distplot(x2, hist=True, kde= True, hist_kws={'edgecolor': 'black'})\n",
        "plt.legend(['x1','x2'])\n",
        "pyqqplot(x1,x2)\n",
        "plt.figure()\n",
        "plt.boxplot([x1,x2],labels=['x1','x2'])\n",
        "\n",
        "# impact of smaple size\n",
        "x1 = np.random.normal(0, 1, size = 10000 )\n",
        "x2 = np.random.normal(0, 1, size = 10 )\n",
        "x3 = np.random.normal(0, 1, size=50)\n",
        "x4 = np.random.normal(0, 1, size=500)\n",
        "pyqqplot(x1,x2)\n",
        "pyqqplot(x1,x3)\n",
        "pyqqplot(x1,x4)"
      ],
      "execution_count": null,
      "outputs": []
    }
  ]
}
